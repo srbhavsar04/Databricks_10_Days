{
 "cells": [
  {
   "cell_type": "markdown",
   "metadata": {
    "application/vnd.databricks.v1+cell": {
     "cellMetadata": {},
     "inputWidgets": {},
     "nuid": "b3d32d7c-5978-46a7-8418-244e09ba4852",
     "showTitle": false,
     "tableResultSettingsMap": {},
     "title": ""
    }
   },
   "source": [
    "Step 1: Create a Simple DataFrame with Array"
   ]
  },
  {
   "cell_type": "code",
   "execution_count": 0,
   "metadata": {
    "application/vnd.databricks.v1+cell": {
     "cellMetadata": {
      "byteLimit": 2048000,
      "rowLimit": 10000
     },
     "inputWidgets": {},
     "nuid": "1dff656a-9765-4237-b6b4-5381b4855e4f",
     "showTitle": false,
     "tableResultSettingsMap": {},
     "title": ""
    }
   },
   "outputs": [],
   "source": [
    "from pyspark.sql import Row\n",
    "\n",
    "# Create DataFrame with array column\n",
    "data_array = [\n",
    "    Row(name=\"John\", skills=[\"Python\", \"Spark\", \"SQL\"]),\n",
    "    Row(name=\"Mary\", skills=[\"Excel\", \"HR\", \"Communication\"])\n",
    "]\n",
    "\n",
    "df_array = spark.createDataFrame(data_array)\n",
    "df_array.show()\n"
   ]
  },
  {
   "cell_type": "markdown",
   "metadata": {
    "application/vnd.databricks.v1+cell": {
     "cellMetadata": {},
     "inputWidgets": {},
     "nuid": "6ceb490c-8a20-4592-a1e9-fd9d450194b9",
     "showTitle": false,
     "tableResultSettingsMap": {},
     "title": ""
    }
   },
   "source": [
    "Step 2: Create a Simple DataFrame with Map"
   ]
  },
  {
   "cell_type": "code",
   "execution_count": 0,
   "metadata": {
    "application/vnd.databricks.v1+cell": {
     "cellMetadata": {
      "byteLimit": 2048000,
      "rowLimit": 10000
     },
     "inputWidgets": {},
     "nuid": "3debeda9-aef9-46c0-9fd2-0276cd73ad3f",
     "showTitle": false,
     "tableResultSettingsMap": {},
     "title": ""
    }
   },
   "outputs": [],
   "source": [
    "# Create DataFrame with map column\n",
    "data_map = [\n",
    "    Row(name=\"John\", scores={\"math\": 85, \"science\": 90}),\n",
    "    Row(name=\"Mary\", scores={\"math\": 78, \"science\": 88})\n",
    "]\n",
    "\n",
    "df_map = spark.createDataFrame(data_map)\n",
    "df_map.show(truncate=False)\n"
   ]
  },
  {
   "cell_type": "markdown",
   "metadata": {
    "application/vnd.databricks.v1+cell": {
     "cellMetadata": {},
     "inputWidgets": {},
     "nuid": "a2bde223-b27a-48fb-9589-4e7c47fd8785",
     "showTitle": false,
     "tableResultSettingsMap": {},
     "title": ""
    }
   },
   "source": [
    "Step 3: Create a Simple DataFrame with Struct"
   ]
  },
  {
   "cell_type": "code",
   "execution_count": 0,
   "metadata": {
    "application/vnd.databricks.v1+cell": {
     "cellMetadata": {
      "byteLimit": 2048000,
      "rowLimit": 10000
     },
     "inputWidgets": {},
     "nuid": "d6b15030-67b0-436f-9a0b-b6fabd2fc723",
     "showTitle": false,
     "tableResultSettingsMap": {},
     "title": ""
    }
   },
   "outputs": [],
   "source": [
    "# Create DataFrame with struct column\n",
    "data_struct = [\n",
    "    Row(name=\"John\", address=Row(city=\"New York\", zip=\"10001\")),\n",
    "    Row(name=\"Mary\", address=Row(city=\"London\", zip=\"EC1A\"))\n",
    "]\n",
    "\n",
    "df_struct = spark.createDataFrame(data_struct)\n",
    "df_struct.show(truncate=False)\n"
   ]
  },
  {
   "cell_type": "markdown",
   "metadata": {
    "application/vnd.databricks.v1+cell": {
     "cellMetadata": {},
     "inputWidgets": {},
     "nuid": "f81485dc-0af9-4401-85ed-1733758a0095",
     "showTitle": false,
     "tableResultSettingsMap": {},
     "title": ""
    }
   },
   "source": [
    "Step 4: Display Schema of Each"
   ]
  },
  {
   "cell_type": "code",
   "execution_count": 0,
   "metadata": {
    "application/vnd.databricks.v1+cell": {
     "cellMetadata": {
      "byteLimit": 2048000,
      "rowLimit": 10000
     },
     "inputWidgets": {},
     "nuid": "eddb4762-de90-4a0c-9b59-10f6fe768b68",
     "showTitle": false,
     "tableResultSettingsMap": {},
     "title": ""
    }
   },
   "outputs": [],
   "source": [
    "print(\"Array Schema:\")\n",
    "df_array.printSchema()\n",
    "\n",
    "print(\"\\nMap Schema:\")\n",
    "df_map.printSchema()\n",
    "\n",
    "print(\"\\nStruct Schema:\")\n",
    "df_struct.printSchema()\n"
   ]
  }
 ],
 "metadata": {
  "application/vnd.databricks.v1+notebook": {
   "computePreferences": null,
   "dashboards": [],
   "environmentMetadata": {
    "base_environment": "",
    "environment_version": "3"
   },
   "inputWidgetPreferences": null,
   "language": "python",
   "notebookMetadata": {
    "pythonIndentUnit": 4
   },
   "notebookName": "04_Datatype",
   "widgets": {}
  },
  "language_info": {
   "name": "python"
  }
 },
 "nbformat": 4,
 "nbformat_minor": 0
}
